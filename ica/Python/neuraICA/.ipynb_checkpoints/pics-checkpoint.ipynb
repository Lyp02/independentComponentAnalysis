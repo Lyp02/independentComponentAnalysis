{
 "cells": [
  {
   "cell_type": "code",
   "execution_count": 1,
   "metadata": {},
   "outputs": [],
   "source": [
    "from graphviz import Digraph"
   ]
  },
  {
   "cell_type": "code",
   "execution_count": 1,
   "metadata": {},
   "outputs": [],
   "source": [
    "from graphviz import Digraph\n",
    "\n",
    "\n"
   ]
  },
  {
   "cell_type": "code",
   "execution_count": 78,
   "metadata": {},
   "outputs": [],
   "source": [
    "g = Digraph('g', filename=\"neuralICA\")\n",
    "g.graph_attr.update(splines=\"line\", nodesep='0.15',ranksep='2',\n",
    "                         rankdir=\"LR\") \n",
    "g.node('s',label='s',shape=\"box\")\n",
    "g.node('x',label='x',shape=\"box\")\n",
    "g.edge('s','x',label='A')\n",
    "g.node('z',label='z',shape=\"box\")\n",
    "g.edge('x','z',label='P')\n",
    "\n",
    "input_layer =7\n",
    "\n",
    "with g.subgraph(name='y') as c:\n",
    "    #c.attr(color='white')\n",
    "    for i in range(input_layer):\n",
    "        if(i>=2 and i<=4):\n",
    "            c.node('y'+str(i),color=\"black\",style=\"solid\",shape=\"point\")\n",
    "            g.edge('z','y'+str(i),color='white')\n",
    "\n",
    "            \n",
    "        else:\n",
    "            c.node('y'+str(i),'y'+str(i),color=\"blue\",\n",
    "                            fontcolor=\"#2ecc71\", shape=\"circle\")\n",
    "            g.edge('z','y'+str(i))\n",
    "        \n",
    "\n",
    "hidden_layer =7\n",
    "for i in range(input_layer):\n",
    "    if(i>=2 and i<=4):\n",
    "        continue\n",
    "    with g.subgraph(name=('n'+str(i))) as c:\n",
    "        #c.attr(color='white')\n",
    "        for j in range(hidden_layer):\n",
    "            if(j>=2 and j<=4):\n",
    "                c.node('n'+str(i)+str(j),color=\"black\",style=\"solid\",shape=\"point\")\n",
    "                g.edge('y'+str(i),'n'+str(i)+str(j),color='white')\n",
    "            else:\n",
    "                c.node('n'+str(i)+str(j),'n'+str(i)+str(j),color=\"orange\",\n",
    "                            fontcolor=\"#2ecc71\", shape=\"circle\")\n",
    "                g.edge('y'+str(i),'n'+str(i)+str(j))\n",
    "        \n",
    "        \n",
    "    \n",
    "for i in range(input_layer):\n",
    "    if(i>=2 and i<=4):\n",
    "        c.node('f'+str(i),color=\"black\",style=\"solid\",shape=\"circle\")\n",
    "        #g.edge('y'+str(i),'f'+str(i),color='white')\n",
    "    else:\n",
    "        with g.subgraph(name=('f'+str(i))) as c:\n",
    "            #c.attr(color='white')\n",
    "            c.node('f'+str(i),'f'+str(i),color=\"green\",\n",
    "                            fontcolor=\"#2ecc71\", shape=\"circle\")\n",
    "            for j in range(hidden_layer):\n",
    "                if(j>=2 and j<=4):\n",
    "                    g.edge('n'+str(i)+str(j),'f'+str(i),color='white')\n",
    "                else:\n",
    "                    g.edge('n'+str(i)+str(j),'f'+str(i))"
   ]
  },
  {
   "cell_type": "code",
   "execution_count": 79,
   "metadata": {},
   "outputs": [
    {
     "data": {
      "text/plain": [
       "'neuralICA.pdf'"
      ]
     },
     "execution_count": 79,
     "metadata": {},
     "output_type": "execute_result"
    }
   ],
   "source": [
    "g.view()"
   ]
  },
  {
   "cell_type": "code",
   "execution_count": 12,
   "metadata": {},
   "outputs": [],
   "source": [
    "g = Digraph('g', filename=\"neuralICA\")\n",
    "g.graph_attr.update(splines=\"line\", nodesep='0.15',ranksep='2',\n",
    "                         rankdir=\"LR\") \n",
    "g.node('s',label='S',shape=\"box\")\n",
    "g.node('x',label='X',shape=\"box\")\n",
    "g.edge('s','x',label='A')\n",
    "g.node('z',label='Z',shape=\"box\")\n",
    "g.edge('x','z',label='P')\n",
    "\n",
    "input_layer =7\n",
    "\n",
    "with g.subgraph(name=('y')) as c:\n",
    "    #c.style(\"filled\")\n",
    "    c.attr(style=\"filled\",color=\"lightgrey\")\n",
    "    c.node('y','y',color=\"blue\",fontcolor=\"#2ecc71\", shape=\"circle\")\n",
    "    g.edge('z','y',label=\"b\")\n",
    "    \n",
    "    with c.subgraph(name=('n')) as c1:\n",
    "        c1.attr(color='white')\n",
    "        for j in range(7):\n",
    "            if(j>=2 and j<=4):\n",
    "                c1.node('n'+str(j),color=\"black\",style=\"solid\",shape=\"point\")\n",
    "                c.edge('y','n'+str(j),color='white')\n",
    "            else:\n",
    "                c1.node('n'+str(j),color=\"orange\",\n",
    "                            fontcolor=\"#2ecc71\", shape=\"circle\")\n",
    "                c.edge('y','n'+str(j))\n",
    "        c1.node('f','f',color=\"red\",fontcolor=\"#2ecc71\", shape=\"circle\")\n",
    "        for j in range(7):\n",
    "            if(j>=2 and j<=4):\n",
    "                c.edge('n'+str(j),'f',color='white')\n",
    "            else:\n",
    "                c.edge('n'+str(j),'f')\n",
    "            \n",
    "        \n",
    "\n",
    "        \n",
    "        \n",
    "    \n"
   ]
  },
  {
   "cell_type": "code",
   "execution_count": 13,
   "metadata": {},
   "outputs": [
    {
     "data": {
      "text/plain": [
       "'neuralICA.pdf'"
      ]
     },
     "execution_count": 13,
     "metadata": {},
     "output_type": "execute_result"
    }
   ],
   "source": [
    "g.view()"
   ]
  },
  {
   "cell_type": "code",
   "execution_count": null,
   "metadata": {},
   "outputs": [],
   "source": []
  }
 ],
 "metadata": {
  "kernelspec": {
   "display_name": "Python 3",
   "language": "python",
   "name": "python3"
  },
  "language_info": {
   "codemirror_mode": {
    "name": "ipython",
    "version": 3
   },
   "file_extension": ".py",
   "mimetype": "text/x-python",
   "name": "python",
   "nbconvert_exporter": "python",
   "pygments_lexer": "ipython3",
   "version": "3.6.5"
  }
 },
 "nbformat": 4,
 "nbformat_minor": 4
}
