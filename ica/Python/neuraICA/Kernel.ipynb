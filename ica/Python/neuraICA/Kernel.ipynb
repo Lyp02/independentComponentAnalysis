{
 "cells": [
  {
   "cell_type": "code",
   "execution_count": 3,
   "metadata": {},
   "outputs": [],
   "source": [
    "import numpy as np\n",
    "import matplotlib.pyplot as plt\n",
    "\n",
    "\n",
    "import scipy.io as scio"
   ]
  },
  {
   "cell_type": "code",
   "execution_count": 4,
   "metadata": {},
   "outputs": [],
   "source": [
    "\n",
    "def scale(X,center=True,scale=True):\n",
    "    if(center==True):\n",
    "        X =X -np.mean(X,axis=0)\n",
    "    if(scale==True):\n",
    "        X =X/np.std(X,axis=0)\n",
    "    return X\n",
    "    \n",
    "def whiten(X):\n",
    "    [N,p] =X.shape\n",
    "    cov =(X.T@X)/N\n",
    "    [eig_vals,eig_vecs] =np.linalg.eig(cov)\n",
    "    P =(np.diag(1.0/np.sqrt(eig_vals)))@eig_vecs.T\n",
    "    return [P,(P@X.T).T]\n",
    "\n",
    "def group(y,B=500):\n",
    "    N =y.shape[0]\n",
    "    y =np.sort(y)\n",
    "    y_min =y[0]\n",
    "    y_max =y[-1]\n",
    "    freqs =np.zeros((B,),dtype=float)\n",
    "    ys    =np.zeros((B,),dtype=float)\n",
    "    gaps =(y_max-y_min)/(B-1)\n",
    "    left =y_min -0.5*gaps\n",
    "    ys =y_min+gaps*np.arange(B)\n",
    "    index =0\n",
    "    for i in range(N):\n",
    "        index =int(np.floor((y[i]-left)/gaps))\n",
    "        freqs[index] = freqs[index]+1.0\n",
    "    freqs =freqs/gaps\n",
    "    return [ys,freqs]\n",
    "        \n",
    "        \n",
    "    \n",
    "    \n",
    "\n",
    "def Amari_metric(A0,A):\n",
    "    R =np.abs(A0@np.linalg.inv(A))\n",
    "    m =A0.shape[0]\n",
    "    row_max =np.max(R,axis=1)\n",
    "    col_max =np.max(R,axis=0)\n",
    "    return -1.0+(np.sum(np.sum(R,axis=1)/row_max)+np.sum(np.sum(R,axis=0)/col_max))/(2*m)\n",
    "    \n",
    "def mixmat(m):\n",
    "    A =np.random.normal(size=(m,m))\n",
    "    [u,s,vh] =np.linalg.svd(A,full_matrices=True)\n",
    "    d =np.sort(np.random.uniform(low=0.0,high=1.0,size=(m,)))+1.0\n",
    "    print('condition ',d[-1]/d[0])\n",
    "    A =u@vh.T@np.diag(d)\n",
    "    return A\n",
    "\n",
    "def orth(W):\n",
    "    [u,s,vh] =np.linalg.svd(W,full_matrices=True)\n",
    "    W =u@vh\n",
    "    return W\n",
    "\n",
    "\n",
    "def gauss_kernel(x,knots,bw):\n",
    "    n=x.shape[0]\n",
    "    m=knots.shape[0]\n",
    "    gram =np.zeros((n,m),dtype=float)\n",
    "    for i in range(n):\n",
    "        for j in range(m):\n",
    "            gram[i,j]=np.exp(-1.0*bw*(x[i]-knots[j])*(x[i]-knots[j]))\n",
    "    return gram\n",
    "\n",
    "def poly_kernel(x,knots,s=1.0,d=3):\n",
    "    n=x.shape[0]\n",
    "    m=knots.shape[0]\n",
    "    gram =np.zeros((n,m),dtype=float)\n",
    "    for i in range(n):\n",
    "        for j in range(m):\n",
    "            gram[i,j]=np.power(s*x[i]*knots[j]+1,d)\n",
    "    return gram"
   ]
  },
  {
   "cell_type": "code",
   "execution_count": 5,
   "metadata": {},
   "outputs": [],
   "source": [
    "path =r\"./data/dists.mat\"\n",
    "data = scio.loadmat(path)[\"dists\"]"
   ]
  },
  {
   "cell_type": "code",
   "execution_count": 6,
   "metadata": {},
   "outputs": [
    {
     "name": "stdout",
     "output_type": "stream",
     "text": [
      "S shape  (1024, 2)\n",
      "condition  1.05350935257\n"
     ]
    }
   ],
   "source": [
    "m  =2\n",
    "S  =data[[11,7],[3,4],:].T\n",
    "print('S shape ',S.shape)\n",
    "A0 =mixmat(2)\n",
    "X  =(A0@S.T).T\n",
    "\n",
    "X  =scale(X,center=True,scale=False)\n",
    "[P,X] =whiten(X)\n",
    "target =np.linalg.inv(P@A0)\n",
    "W0 =np.random.normal(size=(2,2))\n",
    "W0 =orth(W0)\n",
    "s= ((W0@(X.T)).T)[:,0]"
   ]
  },
  {
   "cell_type": "code",
   "execution_count": 8,
   "metadata": {},
   "outputs": [
    {
     "ename": "KeyboardInterrupt",
     "evalue": "",
     "output_type": "error",
     "traceback": [
      "\u001b[0;31m---------------------------------------------------------------------------\u001b[0m",
      "\u001b[0;31mKeyboardInterrupt\u001b[0m                         Traceback (most recent call last)",
      "\u001b[0;32m<ipython-input-8-22fd92a49efa>\u001b[0m in \u001b[0;36m<module>\u001b[0;34m\u001b[0m\n\u001b[1;32m      5\u001b[0m \u001b[0mbws\u001b[0m \u001b[0;34m=\u001b[0m\u001b[0mnp\u001b[0m\u001b[0;34m.\u001b[0m\u001b[0mlinspace\u001b[0m\u001b[0;34m(\u001b[0m\u001b[0;36m0\u001b[0m\u001b[0;34m,\u001b[0m\u001b[0;36m10\u001b[0m\u001b[0;34m,\u001b[0m\u001b[0;36m1000\u001b[0m\u001b[0;34m)\u001b[0m\u001b[0;34m\u001b[0m\u001b[0m\n\u001b[1;32m      6\u001b[0m \u001b[0;32mfor\u001b[0m \u001b[0mi\u001b[0m \u001b[0;32min\u001b[0m \u001b[0mrange\u001b[0m\u001b[0;34m(\u001b[0m\u001b[0;36m1000\u001b[0m\u001b[0;34m)\u001b[0m\u001b[0;34m:\u001b[0m\u001b[0;34m\u001b[0m\u001b[0m\n\u001b[0;32m----> 7\u001b[0;31m     \u001b[0mgram\u001b[0m \u001b[0;34m=\u001b[0m\u001b[0mgauss_kernel\u001b[0m\u001b[0;34m(\u001b[0m\u001b[0ms\u001b[0m\u001b[0;34m,\u001b[0m\u001b[0ms\u001b[0m\u001b[0;34m,\u001b[0m\u001b[0mbws\u001b[0m\u001b[0;34m[\u001b[0m\u001b[0mi\u001b[0m\u001b[0;34m]\u001b[0m\u001b[0;34m)\u001b[0m\u001b[0;34m\u001b[0m\u001b[0m\n\u001b[0m\u001b[1;32m      8\u001b[0m     \u001b[0;32mif\u001b[0m\u001b[0;34m(\u001b[0m\u001b[0mnp\u001b[0m\u001b[0;34m.\u001b[0m\u001b[0mlinalg\u001b[0m\u001b[0;34m.\u001b[0m\u001b[0mmatrix_rank\u001b[0m\u001b[0;34m(\u001b[0m\u001b[0mgram\u001b[0m\u001b[0;34m)\u001b[0m\u001b[0;34m==\u001b[0m\u001b[0mN\u001b[0m\u001b[0;34m)\u001b[0m\u001b[0;34m:\u001b[0m\u001b[0;34m\u001b[0m\u001b[0m\n\u001b[1;32m      9\u001b[0m         \u001b[0mprint\u001b[0m\u001b[0;34m(\u001b[0m\u001b[0;34m\"bw \"\u001b[0m\u001b[0;34m,\u001b[0m\u001b[0mbws\u001b[0m\u001b[0;34m[\u001b[0m\u001b[0mi\u001b[0m\u001b[0;34m]\u001b[0m\u001b[0;34m)\u001b[0m\u001b[0;34m\u001b[0m\u001b[0m\n",
      "\u001b[0;32m<ipython-input-4-5297c224d7d8>\u001b[0m in \u001b[0;36mgauss_kernel\u001b[0;34m(x, knots, bw)\u001b[0m\n\u001b[1;32m     61\u001b[0m     \u001b[0;32mfor\u001b[0m \u001b[0mi\u001b[0m \u001b[0;32min\u001b[0m \u001b[0mrange\u001b[0m\u001b[0;34m(\u001b[0m\u001b[0mn\u001b[0m\u001b[0;34m)\u001b[0m\u001b[0;34m:\u001b[0m\u001b[0;34m\u001b[0m\u001b[0m\n\u001b[1;32m     62\u001b[0m         \u001b[0;32mfor\u001b[0m \u001b[0mj\u001b[0m \u001b[0;32min\u001b[0m \u001b[0mrange\u001b[0m\u001b[0;34m(\u001b[0m\u001b[0mm\u001b[0m\u001b[0;34m)\u001b[0m\u001b[0;34m:\u001b[0m\u001b[0;34m\u001b[0m\u001b[0m\n\u001b[0;32m---> 63\u001b[0;31m             \u001b[0mgram\u001b[0m\u001b[0;34m[\u001b[0m\u001b[0mi\u001b[0m\u001b[0;34m,\u001b[0m\u001b[0mj\u001b[0m\u001b[0;34m]\u001b[0m\u001b[0;34m=\u001b[0m\u001b[0mnp\u001b[0m\u001b[0;34m.\u001b[0m\u001b[0mexp\u001b[0m\u001b[0;34m(\u001b[0m\u001b[0;34m-\u001b[0m\u001b[0;36m1.0\u001b[0m\u001b[0;34m*\u001b[0m\u001b[0mbw\u001b[0m\u001b[0;34m*\u001b[0m\u001b[0;34m(\u001b[0m\u001b[0mx\u001b[0m\u001b[0;34m[\u001b[0m\u001b[0mi\u001b[0m\u001b[0;34m]\u001b[0m\u001b[0;34m-\u001b[0m\u001b[0mknots\u001b[0m\u001b[0;34m[\u001b[0m\u001b[0mj\u001b[0m\u001b[0;34m]\u001b[0m\u001b[0;34m)\u001b[0m\u001b[0;34m*\u001b[0m\u001b[0;34m(\u001b[0m\u001b[0mx\u001b[0m\u001b[0;34m[\u001b[0m\u001b[0mi\u001b[0m\u001b[0;34m]\u001b[0m\u001b[0;34m-\u001b[0m\u001b[0mknots\u001b[0m\u001b[0;34m[\u001b[0m\u001b[0mj\u001b[0m\u001b[0;34m]\u001b[0m\u001b[0;34m)\u001b[0m\u001b[0;34m)\u001b[0m\u001b[0;34m\u001b[0m\u001b[0m\n\u001b[0m\u001b[1;32m     64\u001b[0m     \u001b[0;32mreturn\u001b[0m \u001b[0mgram\u001b[0m\u001b[0;34m\u001b[0m\u001b[0m\n\u001b[1;32m     65\u001b[0m \u001b[0;34m\u001b[0m\u001b[0m\n",
      "\u001b[0;31mKeyboardInterrupt\u001b[0m: "
     ]
    }
   ],
   "source": [
    "N=1024\n",
    "s =np.random.normal(size=(N,))\n",
    "s =(s-np.mean(s))/np.std(s)\n",
    "\n",
    "bws =np.linspace(0,10,1000)\n",
    "for i in range(1000):\n",
    "    gram =gauss_kernel(s,s,bws[i])\n",
    "    if(np.linalg.matrix_rank(gram)==N):\n",
    "        print(\"bw \",bws[i])"
   ]
  },
  {
   "cell_type": "code",
   "execution_count": 44,
   "metadata": {},
   "outputs": [
    {
     "name": "stdout",
     "output_type": "stream",
     "text": [
      "43\n"
     ]
    }
   ],
   "source": [
    "\n",
    "print(np.linalg.matrix_rank(gram))"
   ]
  },
  {
   "cell_type": "code",
   "execution_count": 54,
   "metadata": {},
   "outputs": [],
   "source": [
    "[eig_vals,eig_vecs] =np.linalg.eig(gram)"
   ]
  },
  {
   "cell_type": "code",
   "execution_count": 55,
   "metadata": {},
   "outputs": [
    {
     "data": {
      "text/plain": [
       "-1.6065291424249355e-16"
      ]
     },
     "execution_count": 55,
     "metadata": {},
     "output_type": "execute_result"
    }
   ],
   "source": [
    "[eig_vals,eig_vecs] =np.linalg.eig(gram)\n",
    "np.min(eig_vals)"
   ]
  },
  {
   "cell_type": "code",
   "execution_count": 50,
   "metadata": {},
   "outputs": [],
   "source": [
    "new_gram =eig_vecs@np.diag(eig_vals-np.min(eig_vals)+1e-12)@eig_vecs.T"
   ]
  },
  {
   "cell_type": "code",
   "execution_count": 52,
   "metadata": {},
   "outputs": [
    {
     "name": "stdout",
     "output_type": "stream",
     "text": [
      "1.00019557261e-12\n",
      "50\n"
     ]
    }
   ],
   "source": [
    "[eig_vals,eig_vecs] =np.linalg.eig(new_gram)\n",
    "print(np.min(eig_vals))\n",
    "print(np.linalg.matrix_rank(new_gram))"
   ]
  },
  {
   "cell_type": "code",
   "execution_count": 56,
   "metadata": {},
   "outputs": [
    {
     "data": {
      "text/plain": [
       "5.5116988007111949e-14"
      ]
     },
     "execution_count": 56,
     "metadata": {},
     "output_type": "execute_result"
    }
   ],
   "source": [
    "np.linalg.norm(eig_vecs@np.diag(eig_vals)@eig_vecs.T-gram)"
   ]
  },
  {
   "cell_type": "code",
   "execution_count": null,
   "metadata": {},
   "outputs": [],
   "source": []
  }
 ],
 "metadata": {
  "kernelspec": {
   "display_name": "Python 3",
   "language": "python",
   "name": "python3"
  },
  "language_info": {
   "codemirror_mode": {
    "name": "ipython",
    "version": 3
   },
   "file_extension": ".py",
   "mimetype": "text/x-python",
   "name": "python",
   "nbconvert_exporter": "python",
   "pygments_lexer": "ipython3",
   "version": "3.6.5"
  }
 },
 "nbformat": 4,
 "nbformat_minor": 4
}
